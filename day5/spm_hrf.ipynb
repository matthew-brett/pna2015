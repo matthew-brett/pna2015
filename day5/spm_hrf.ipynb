{
 "metadata": {
  "name": "",
  "signature": "sha256:6dd39ca2f4d85f3510dd5b6a3e06a6bb08869ce4ecf5112830519dbb28e2297c"
 },
 "nbformat": 3,
 "nbformat_minor": 0,
 "worksheets": [
  {
   "cells": [
    {
     "cell_type": "code",
     "collapsed": false,
     "input": [
      "# - compatibility with Python 3\n",
      "from __future__ import print_function  # print('me') instead of print 'me'\n",
      "from __future__ import division  # 1/2 == 0.5, not 0"
     ],
     "language": "python",
     "metadata": {},
     "outputs": [],
     "prompt_number": 1
    },
    {
     "cell_type": "code",
     "collapsed": false,
     "input": [
      "# - show figures inside the notebook\n",
      "%matplotlib inline"
     ],
     "language": "python",
     "metadata": {},
     "outputs": [],
     "prompt_number": 2
    },
    {
     "cell_type": "code",
     "collapsed": false,
     "input": [
      "# - import common modules\n",
      "import numpy as np  # the Python array package\n",
      "import matplotlib.pyplot as plt  # the Python plotting package"
     ],
     "language": "python",
     "metadata": {},
     "outputs": [],
     "prompt_number": 3
    },
    {
     "cell_type": "markdown",
     "metadata": {},
     "source": [
      "## Making an SPM-like hemodynamic response function"
     ]
    },
    {
     "cell_type": "markdown",
     "metadata": {},
     "source": [
      "SPM has an HRF that is the sum of two [gamma distribution](https://en.wikipedia.org/wiki/Gamma_distribution) probability density functions.\n",
      "\n",
      "We are going to try to replicate the SPM HRF in Python."
     ]
    },
    {
     "cell_type": "markdown",
     "metadata": {},
     "source": [
      "The SPM HRF function (in MATLAB) returns the HRF estimated at a given time resolution.   Here I asked SPM to return the HRF estimated at a 0.1 second time resolution.\n",
      "\n",
      "```\n",
      ">> hrf = spm_hrf(0.1)\n",
      "```\n",
      "\n",
      "Next I saved this variable `hrf` to a text file:\n",
      "\n",
      "```\n",
      ">> save spm_hrf.txt hrf -ascii\n",
      "```\n",
      "\n",
      "You will find this file in the same directory as the notebook."
     ]
    },
    {
     "cell_type": "code",
     "collapsed": false,
     "input": [
      "# Load the SPM hrf from the text file into an array\n",
      "spm_hrf_var = np.loadtxt('spm_hrf.txt')"
     ],
     "language": "python",
     "metadata": {},
     "outputs": [],
     "prompt_number": 5
    },
    {
     "cell_type": "markdown",
     "metadata": {},
     "source": [
      "The SPM HRF variable has HRF values estimated every 0.1 seconds, starting at 0.\n",
      "\n",
      "To plot the estimate, make an array the same length as the array holding the SPM HRF values, where each value in the array has the time corresponding to the same index in the SPM HRF array.  For example, `spm_times[0] == 0, spm_times[1] == 0.1, spm_times[2] == 0.2` etc."
     ]
    },
    {
     "cell_type": "code",
     "collapsed": false,
     "input": [
      "# Variable holding the times (x axis) corresponding to the SPM HRF values (y-axis)\n",
      "spm_times = np.arange(len(spm_hrf_var)) * 0.1"
     ],
     "language": "python",
     "metadata": {},
     "outputs": [],
     "prompt_number": 6
    },
    {
     "cell_type": "markdown",
     "metadata": {},
     "source": [
      "Plot the SPM HRF against your new `spm_times` variable:"
     ]
    },
    {
     "cell_type": "code",
     "collapsed": false,
     "input": [
      "# Plot spm times against spm values\n",
      "# For extra points, label x and y axis, add a title\n",
      "plt.plot(spm_times, spm_hrf_var)\n",
      "plt.xlabel('time (seconds)')\n",
      "plt.ylabel('SPM HRF value')\n",
      "plt.title('SPM HRF')"
     ],
     "language": "python",
     "metadata": {},
     "outputs": [
      {
       "metadata": {},
       "output_type": "pyout",
       "prompt_number": 8,
       "text": [
        "<matplotlib.text.Text at 0x10735a290>"
       ]
      },
      {
       "metadata": {},
       "output_type": "display_data",
       "png": "[encoded data removed]",
       "text": [
        "<matplotlib.figure.Figure at 0x1072d7850>"
       ]
      }
     ],
     "prompt_number": 8
    },
    {
     "cell_type": "markdown",
     "metadata": {},
     "source": [
      "Here, for your enjoyment, is the gammma distribution object from scipy:"
     ]
    },
    {
     "cell_type": "code",
     "collapsed": false,
     "input": [
      "# - get scipy gamma distribution object\n",
      "from scipy.stats import gamma"
     ],
     "language": "python",
     "metadata": {},
     "outputs": [],
     "prompt_number": 4
    },
    {
     "cell_type": "code",
     "collapsed": false,
     "input": [
      "t = np.arange(0, 33, 0.1)"
     ],
     "language": "python",
     "metadata": {},
     "outputs": [],
     "prompt_number": 5
    },
    {
     "cell_type": "code",
     "collapsed": false,
     "input": [
      "def spm_hrf(t):\n",
      "    res = gamma.pdf(t, 6) - gamma.pdf(t, 16) / 6.\n",
      "    return res / np.sum(res)"
     ],
     "language": "python",
     "metadata": {},
     "outputs": [],
     "prompt_number": 6
    },
    {
     "cell_type": "code",
     "collapsed": false,
     "input": [
      "plt.plot(t, spm_hrf(t))"
     ],
     "language": "python",
     "metadata": {},
     "outputs": [
      {
       "metadata": {},
       "output_type": "pyout",
       "prompt_number": 7,
       "text": [
        "[<matplotlib.lines.Line2D at 0x107f4d790>]"
       ]
      },
      {
       "metadata": {},
       "output_type": "display_data",
       "png": "[encoded data removed]",
       "text": [
        "<matplotlib.figure.Figure at 0x107c78710>"
       ]
      }
     ],
     "prompt_number": 7
    },
    {
     "cell_type": "markdown",
     "metadata": {},
     "source": [
      "The Glover HRF from: Glover(1999) NeuroImage 9, 416\u2013429."
     ]
    },
    {
     "cell_type": "code",
     "collapsed": false,
     "input": [
      "n1, t1, n2, t2, a2 = (6.0, 0.9, 12, 0.9, 0.35)"
     ],
     "language": "python",
     "metadata": {},
     "outputs": [],
     "prompt_number": 11
    },
    {
     "cell_type": "code",
     "collapsed": false,
     "input": [
      "def glover_hrf(t):\n",
      "    component1 = t**n1 * np.exp(-t / t1)\n",
      "    component2 = t**n2 * np.exp(-t / t2)\n",
      "    c1 = 1 / np.max(component1)\n",
      "    c2 = 1 / np.max(component2)\n",
      "    return c1 * component1 - c2 * a2 * component2"
     ],
     "language": "python",
     "metadata": {},
     "outputs": [],
     "prompt_number": 12
    },
    {
     "cell_type": "code",
     "collapsed": false,
     "input": [
      "plt.plot(t, glover_hrf(t))"
     ],
     "language": "python",
     "metadata": {},
     "outputs": [
      {
       "metadata": {},
       "output_type": "pyout",
       "prompt_number": 13,
       "text": [
        "[<matplotlib.lines.Line2D at 0x108523d10>]"
       ]
      },
      {
       "metadata": {},
       "output_type": "display_data",
       "png": "[encoded data removed]",
       "text": [
        "<matplotlib.figure.Figure at 0x108426910>"
       ]
      }
     ],
     "prompt_number": 13
    },
    {
     "cell_type": "code",
     "collapsed": false,
     "input": [
      "import nipy.modalities.fmri.hrf as hrf\n",
      "plt.plot(t, hrf.glovert(t))"
     ],
     "language": "python",
     "metadata": {},
     "outputs": [
      {
       "metadata": {},
       "output_type": "pyout",
       "prompt_number": 14,
       "text": [
        "[<matplotlib.lines.Line2D at 0x10a725e50>]"
       ]
      },
      {
       "metadata": {},
       "output_type": "display_data",
       "png": "[encoded data removed]",
       "text": [
        "<matplotlib.figure.Figure at 0x108a0d690>"
       ]
      }
     ],
     "prompt_number": 14
    },
    {
     "cell_type": "code",
     "collapsed": false,
     "input": [
      "def afni_hrf(t):\n",
      "   return t ** 8.6 * np.exp(-t / 0.547)"
     ],
     "language": "python",
     "metadata": {},
     "outputs": [],
     "prompt_number": 15
    },
    {
     "cell_type": "code",
     "collapsed": false,
     "input": [
      "plt.plot(t, afni_hrf(t))"
     ],
     "language": "python",
     "metadata": {},
     "outputs": [
      {
       "metadata": {},
       "output_type": "pyout",
       "prompt_number": 16,
       "text": [
        "[<matplotlib.lines.Line2D at 0x10a7f3710>]"
       ]
      },
      {
       "metadata": {},
       "output_type": "display_data",
       "png": "[encoded data removed]",
       "text": [
        "<matplotlib.figure.Figure at 0x10a725fd0>"
       ]
      }
     ],
     "prompt_number": 16
    }
   ],
   "metadata": {}
  }
 ]
}